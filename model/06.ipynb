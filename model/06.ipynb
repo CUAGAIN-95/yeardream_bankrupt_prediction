{
 "cells": [
  {
   "cell_type": "markdown",
   "metadata": {},
   "source": [
    "# 고객의 채무 불이행 여부 분류\n",
    "---\n",
    "#### 데이터 양\n",
    "- train : 100,000 개\n",
    "- test : 35,815 개\n",
    "---\n",
    "#### input과 output\n",
    "- input : 고객 재무 상태에 대한 75개 feature\n",
    "- output : 채무 불이행 여부\n",
    "    - 0 = 이행\n",
    "    - 1 = 불이행 / 부도\n",
    "---\n",
    "#### features\n",
    "- **int_rate** : 대출자에 부여된 이자율 (Interest rate of the loan the applicant received)\n",
    "- **annual_inc** : 연 소득 (annual income)\n",
    "- **dti** : 소득 대비 부채 비율 (Debt-to-income ratio)\n",
    "- **delinq_2yrs** : 지난 2년 간 체납 발생 횟수 (Delinquencies on lines of credit in the last 2 years)\n",
    "- **inq_last_6mths** : 지난 6개월 간 신용 조회 수 (Inquiries into the applicant's credit during the last 6 months)\n",
    "- **pub_rec** : 파산 횟수 (Number of bankruptcies listed in the public record)\n",
    "- **revol_bal** : 리볼빙 잔액 (Total credit revolving balance)\n",
    "- **total_acc** : 지금까지 소유했던 신용카드 개수 (num_total_cc_accounts : Total number of credit card accounts in the applicant's history)\n",
    "- **collections_12_mths_ex_med** : 의료부문을 제외한 지난 12개월 간 추심 발생 횟수 (num_collections_last_12m : Number of collections in the last 12 months. This excludes medical collections)\n",
    "- **acc_now_delinq** : 대출자가 체납 상태에 있지 않은 계좌의 수 (The number of accounts on which the borrower is now delinquent)\n",
    "- **tot_coll_amt** : 대출자에 대한 현재까지의 총 추심액 (total_collection_amount_ever : The total amount that the applicant has had against them in collections)\n",
    "- **tot_cur_bal** : 전 계좌의 현재 통합 잔고 (Total current balance of all accounts)\n",
    "- **chargeoff_within_12_mths** : 대출 부 신청인의 대출 신청 직전 12개월 간 세금 공제 횟수 (Number of charge-offs within last 12 months at time of application for the secondary applicant)\n",
    "- **delinq_amnt** : 체납 금액 (delinquency amount)\n",
    "- **tax_liens** : 세금 저당권의 수 (Number of tax liens)\n",
    "- **emp_length1** ~ 12 : 고용 연수 (Number of years in the job)\n",
    "- **home_ownership1** ~ 6 : 대출 신청자의 주거 소유 형태 (The ownership status of the applicant's residence)\n",
    "- **verification_status1** ~ 3 : 공동 소득 발생 여부 및 형태 (verification_income_joint : Type of verification of the joint income)\n",
    "- **purpose1** ~ 14 : 대출 목적 (The purpose of the loan)\n",
    "- **initial_list_status1** ~ 2 : 최초 대출 상태 (Initial listing status of the loan)\n",
    "- **mths_since_last_delinq1** ~ 11 : 마지막 체납이 지금으로부터 몇개월 전에 있었는지를 나타내는 변수 (Months since the last delinquency)\n",
    "- **funded_amnt** : 대출액 (Funded amount)\n",
    "- **funded_amnt_inv** : 사채 대출액 (Funded amount by investors)\n",
    "- **total_rec_late_fee** : 총 연체료 중 납부액 (Late fees received to date)\n",
    "- **term1** : 상환 기간 (The number of payments on the loan. Values are in months and can be either 36 or 60)\n",
    "- **open_acc** : 개설 개좌 수 (The number of open credit lines in the borrower's credit file)\n",
    "- **installment** : 대출 발생 시 월 상환액 (The monthly payment owed by the borrower if the loan originates)\n",
    "- **revol_util** : 리볼빙 한도 대비 리볼빙 사용 비율 (Revolving line utilization rate, or the amount of credit the borrower is using relative to all available revolving credit)\n",
    "- **out_prncp** : 대출액 중 원리금 잔액 (Remaining outstanding principal for total amount funded)\n",
    "- **out_prncp_inv** : 사채 대출액 중 원리금 잔액 (Remaining outstanding principal for total amount funded by investors)\n",
    "- **total_rec_int** : 이자 상환액 (Interest received to date)\n",
    "- **fico_range_low** : FICO(일종의 신용점수) 최저값 (The lower boundary range the borrowerʼs FICO at loan origination belongs to)\n",
    "- **fico_range_high** : FICO(일종의 신용점수) 최고값 (The upper boundary range the borrowerʼs FICO at loan origination belongs to)\n",
    "- **depvar** : 고객의 부도 여부 (dependent variable)"
   ]
  },
  {
   "cell_type": "markdown",
   "metadata": {},
   "source": [
    "---\n",
    "# 필요 데이터 로드\n",
    "---"
   ]
  },
  {
   "cell_type": "code",
   "execution_count": 2,
   "metadata": {},
   "outputs": [],
   "source": [
    "# Libraries for data handling\n",
    "import numpy as np\n",
    "import pandas as pd\n",
    "\n",
    "# Libraries for plotting\n",
    "import matplotlib.pyplot as plt\n",
    "import seaborn as sns\n",
    "\n",
    "# Libraries for machin learning\n",
    "from sklearn.model_selection import train_test_split, StratifiedKFold, cross_val_score\n",
    "\n",
    "import sklearn.metrics as metrics\n",
    "from xgboost import XGBClassifier"
   ]
  },
  {
   "cell_type": "code",
   "execution_count": 3,
   "metadata": {},
   "outputs": [],
   "source": [
    "train = pd.read_csv(\"../data/train.csv\")\n",
    "test = pd.read_csv(\"../data/test.csv\")"
   ]
  },
  {
   "cell_type": "code",
   "execution_count": 4,
   "metadata": {},
   "outputs": [
    {
     "name": "stdout",
     "output_type": "stream",
     "text": [
      "(100000, 76)\n"
     ]
    }
   ],
   "source": [
    "print(train.shape)\n",
    "# print(train.columns.values)\n",
    "# train.describe().T"
   ]
  },
  {
   "cell_type": "markdown",
   "metadata": {},
   "source": [
    "# processing"
   ]
  },
  {
   "cell_type": "code",
   "execution_count": 5,
   "metadata": {},
   "outputs": [],
   "source": [
    "all_to_one = ['emp_length', 'mths_since_last_delinq']\n",
    "def merge_one_hot_columns(df, prefix):\n",
    "    # 해당 prefix로 시작하는 컬럼들 선택\n",
    "    one_hot_columns = [col for col in df.columns if col.startswith(prefix)]\n",
    "    \n",
    "    # 원핫 인코딩된 값에서 해당 컬럼 이름 추출\n",
    "    merged_column = df[one_hot_columns].idxmax(axis=1)\n",
    "    \n",
    "    # 접두사 제거\n",
    "    merged_column = merged_column.apply(lambda x: int(x[len(prefix):]))\n",
    "    \n",
    "    return merged_column\n",
    "\n",
    "for col_name in all_to_one:\n",
    "    train[col_name] = merge_one_hot_columns(train, col_name)\n",
    "    one_hot_columns = [col for col in train.columns if col.startswith(col_name)]\n",
    "    train = train.drop(one_hot_columns[:-1], axis=1)\n",
    "\n",
    "train['term1'] = train['term1'].replace({0: 36, 1: 60})\n",
    "\n",
    "for col_name in all_to_one:\n",
    "    test[col_name] = merge_one_hot_columns(test, col_name)\n",
    "    one_hot_columns = [col for col in test.columns if col.startswith(col_name)]\n",
    "    test = test.drop(one_hot_columns[:-1], axis=1)\n",
    "test['term1'] = test['term1'].replace({0: 36, 1: 60})"
   ]
  },
  {
   "cell_type": "code",
   "execution_count": 6,
   "metadata": {},
   "outputs": [
    {
     "name": "stdout",
     "output_type": "stream",
     "text": [
      "Index(['ID', 'int_rate', 'annual_inc', 'dti', 'delinq_2yrs', 'inq_last_6mths',\n",
      "       'pub_rec', 'revol_bal', 'total_acc', 'collections_12_mths_ex_med',\n",
      "       'acc_now_delinq', 'tot_coll_amt', 'tot_cur_bal',\n",
      "       'chargeoff_within_12_mths', 'delinq_amnt', 'tax_liens',\n",
      "       'home_ownership1', 'home_ownership2', 'home_ownership3',\n",
      "       'home_ownership4', 'home_ownership5', 'home_ownership6',\n",
      "       'verification_status1', 'verification_status2', 'verification_status3',\n",
      "       'purpose1', 'purpose2', 'purpose3', 'purpose4', 'purpose5', 'purpose6',\n",
      "       'purpose7', 'purpose8', 'purpose9', 'purpose10', 'purpose11',\n",
      "       'purpose12', 'purpose13', 'purpose14', 'initial_list_status1',\n",
      "       'initial_list_status2', 'funded_amnt', 'funded_amnt_inv',\n",
      "       'total_rec_late_fee', 'term1', 'open_acc', 'installment', 'revol_util',\n",
      "       'out_prncp', 'out_prncp_inv', 'total_rec_int', 'fico_range_low',\n",
      "       'fico_range_high', 'emp_length', 'mths_since_last_delinq'],\n",
      "      dtype='object')\n"
     ]
    }
   ],
   "source": [
    "print(test.columns)"
   ]
  },
  {
   "cell_type": "markdown",
   "metadata": {},
   "source": [
    "---\n",
    "\n",
    "# modeling\n",
    "\n",
    "---\n",
    "## train"
   ]
  },
  {
   "cell_type": "code",
   "execution_count": 7,
   "metadata": {},
   "outputs": [],
   "source": [
    "# model 채점\n",
    "def get_clf_eval(y_answer, y_pred):\n",
    "    acc = metrics.accuracy_score(y_answer, y_pred)\n",
    "    prec = metrics.precision_score(y_answer, y_pred)\n",
    "    recall = metrics.recall_score(y_answer, y_pred)\n",
    "    AUC = metrics.roc_auc_score(y_answer, y_pred)\n",
    "    F1 = metrics.f1_score(y_answer, y_pred, average=\"macro\")\n",
    "    confus_met = metrics.confusion_matrix(y_answer, y_pred)\n",
    "\n",
    "    print(\"========================\")\n",
    "    print(\"정확도 : {:.6f}\".format(acc))\n",
    "    print(\"정밀도 : {:.6f}\".format(prec))\n",
    "    print(\"재현율 : {:.6f}\".format(recall))\n",
    "    print(\"AUC : {:.6f}\".format(AUC))\n",
    "    \n",
    "    print(\" ** F1 : {:.6f} **\".format(F1))\n",
    "    \n",
    "    print(\"====confusion_matrix====\\n{}\".format(confus_met))\n",
    "    print(\"========================\")\n",
    "\n",
    "    return F1"
   ]
  },
  {
   "cell_type": "code",
   "execution_count": 8,
   "metadata": {},
   "outputs": [
    {
     "name": "stdout",
     "output_type": "stream",
     "text": [
      "========================\n",
      "정확도 : 0.750450\n",
      "정밀도 : 0.657818\n",
      "재현율 : 0.487026\n",
      "AUC : 0.682343\n",
      " ** F1 : 0.692784 **\n",
      "====confusion_matrix====\n",
      "[[11837  1650]\n",
      " [ 3341  3172]]\n",
      "========================\n",
      "========================\n",
      "정확도 : 0.749850\n",
      "정밀도 : 0.655934\n",
      "재현율 : 0.487872\n",
      "AUC : 0.682131\n",
      " ** F1 : 0.692438 **\n",
      "====confusion_matrix====\n",
      "[[11819  1667]\n",
      " [ 3336  3178]]\n",
      "========================\n",
      "========================\n",
      "정확도 : 0.754400\n",
      "정밀도 : 0.662343\n",
      "재현율 : 0.501689\n",
      "AUC : 0.689077\n",
      " ** F1 : 0.699446 **\n",
      "====confusion_matrix====\n",
      "[[11820  1666]\n",
      " [ 3246  3268]]\n",
      "========================\n",
      "========================\n",
      "정확도 : 0.751250\n",
      "정밀도 : 0.654301\n",
      "재현율 : 0.500921\n",
      "AUC : 0.686542\n",
      " ** F1 : 0.696431 **\n",
      "====confusion_matrix====\n",
      "[[11762  1724]\n",
      " [ 3251  3263]]\n",
      "========================\n",
      "========================\n",
      "정확도 : 0.756000\n",
      "정밀도 : 0.667900\n",
      "재현율 : 0.498925\n",
      "AUC : 0.689549\n",
      " ** F1 : 0.700334 **\n",
      "====confusion_matrix====\n",
      "[[11870  1616]\n",
      " [ 3264  3250]]\n",
      "========================\n",
      "Best fold: 4\n",
      "Best fold score: 0.7003336858096947\n",
      "Mean accuracy: 0.6962865466457048\n"
     ]
    }
   ],
   "source": [
    "X = train.drop('depvar', axis=1)\n",
    "y = train['depvar']\n",
    "\n",
    "model = XGBClassifier(use_label_encoder=False, eval_metric='logloss')  # XGBoost 특정 옵션()\n",
    "# Stratified K-Fold 설정\n",
    "skf = StratifiedKFold(n_splits=5, shuffle=True, random_state=42)\n",
    "\n",
    "# 각 폴드의 점수 저장 및 모델 저장\n",
    "fold_scores = []\n",
    "models = []\n",
    "\n",
    "# K-Fold 교차 검증 수행\n",
    "for train_index, val_index in skf.split(X, y):\n",
    "    X_train, X_val = X.iloc[train_index], X.iloc[val_index]\n",
    "    y_train, y_val = y.iloc[train_index], y.iloc[val_index]\n",
    "    model.fit(X_train, y_train)\n",
    "    y_prec = model.predict(X_val)\n",
    "    score = get_clf_eval(y_val, y_prec)\n",
    "    fold_scores.append(score)\n",
    "    models.append(model)  # 각 폴드에서 학습된 모델 저장\n",
    "\n",
    "# 가장 높은 점수를 얻은 모델 선택\n",
    "best_fold_index = fold_scores.index(max(fold_scores))\n",
    "best_model = models[best_fold_index]\n",
    "\n",
    "print(f\"Best fold: {best_fold_index}\")\n",
    "print(f\"Best fold score: {fold_scores[best_fold_index]}\")\n",
    "print(f\"Mean accuracy: {sum(fold_scores) / len(fold_scores)}\")\n",
    "\n",
    "X_test = test.iloc[:, 1:]\n",
    "test_pred = best_model.predict(X_test)\n"
   ]
  },
  {
   "cell_type": "code",
   "execution_count": 9,
   "metadata": {},
   "outputs": [],
   "source": [
    "submission = pd.read_csv('../data/sample_submission.csv')\n",
    "submission['answer'] = test_pred\n",
    "submission.to_csv('submission.csv', index=False)"
   ]
  }
 ],
 "metadata": {
  "kernelspec": {
   "display_name": "yeardream",
   "language": "python",
   "name": "python3"
  },
  "language_info": {
   "codemirror_mode": {
    "name": "ipython",
    "version": 3
   },
   "file_extension": ".py",
   "mimetype": "text/x-python",
   "name": "python",
   "nbconvert_exporter": "python",
   "pygments_lexer": "ipython3",
   "version": "3.9.19"
  }
 },
 "nbformat": 4,
 "nbformat_minor": 2
}
